{
 "cells": [
  {
   "cell_type": "code",
   "execution_count": 2,
   "id": "9da072fb-d575-4472-8e8c-9a272b4a23d1",
   "metadata": {},
   "outputs": [
    {
     "data": {
      "text/plain": [
       "array([['true', 'true', 'true', 'true', 'true'],\n",
       "       ['true', 'true', 'true', 'true', 'true'],\n",
       "       ['true', 'true', 'true', 'true', 'true'],\n",
       "       ['true', 'true', 'true', 'true', 'true']], dtype='<U4')"
      ]
     },
     "execution_count": 2,
     "metadata": {},
     "output_type": "execute_result"
    }
   ],
   "source": [
    "#Q3: Create a 4×5 numpy array of all True’s.\n",
    "import numpy as np\n",
    "import pandas as pd\n",
    "import math\n",
    "p1=np.array([['true','true','true','true','true'],['true','true','true','true','true'],['true','true','true','true','true'],\n",
    "             ['true','true','true','true','true']])\n",
    "p1"
   ]
  },
  {
   "cell_type": "code",
   "execution_count": 3,
   "id": "948d3aef-4d6a-43d3-b306-d4e6b9186bf9",
   "metadata": {},
   "outputs": [
    {
     "data": {
      "text/plain": [
       "(4, 5)"
      ]
     },
     "execution_count": 3,
     "metadata": {},
     "output_type": "execute_result"
    }
   ],
   "source": [
    "p1.shape"
   ]
  },
  {
   "cell_type": "code",
   "execution_count": 17,
   "id": "65d2ec44-c429-4fac-954d-226aaf14ab45",
   "metadata": {},
   "outputs": [
    {
     "data": {
      "text/plain": [
       "array([10, 13, 16, 19, 22, 25, 28, 31, 34, 37, 40, 43, 46, 49])"
      ]
     },
     "execution_count": 17,
     "metadata": {},
     "output_type": "execute_result"
    }
   ],
   "source": [
    "#Q4: Create an array of integers from 10 to 50 with with step of 3. Save the array in a. Replace all even numbers in a with -1.\n",
    "a=np.arange(10,50,3)\n",
    "a"
   ]
  },
  {
   "cell_type": "code",
   "execution_count": 15,
   "id": "f972551c-cafc-4c32-828a-eef51e37a971",
   "metadata": {},
   "outputs": [
    {
     "data": {
      "text/plain": [
       "array([-1, 13, -1, 19, -1, 25, -1, 31, -1, 37, -1, 43, -1, 49])"
      ]
     },
     "execution_count": 15,
     "metadata": {},
     "output_type": "execute_result"
    }
   ],
   "source": [
    "#Q4: Create an array of integers from 10 to 50 with with step of 3. Save the array in a. Replace all even numbers in a with -1.\n",
    "a=np.arange(10,50,3)\n",
    "a[(a%2==0)]=-1\n",
    "a"
   ]
  },
  {
   "cell_type": "code",
   "execution_count": 22,
   "id": "3608db38-83f7-4fb9-ac1c-ef7cf5ed5ba0",
   "metadata": {},
   "outputs": [
    {
     "data": {
      "text/plain": [
       "array([ 1,  3,  5,  7,  9, 11, 13, 15, 17, 19])"
      ]
     },
     "execution_count": 22,
     "metadata": {},
     "output_type": "execute_result"
    }
   ],
   "source": [
    "#Q5: Create an one-dimensional array which includes odd numbers from 1 to 20.\n",
    "a=np.arange(1,20,2)\n",
    "a"
   ]
  },
  {
   "cell_type": "code",
   "execution_count": 23,
   "id": "6979de3b-0593-478e-ab83-c2bc2a00c6d3",
   "metadata": {},
   "outputs": [
    {
     "data": {
      "text/plain": [
       "array([ 1,  0,  5,  7,  0, 11, 13,  0, 17, 19])"
      ]
     },
     "execution_count": 23,
     "metadata": {},
     "output_type": "execute_result"
    }
   ],
   "source": [
    "#Q5- a: Change all numbers divisible by 3 into 0.\n",
    "a=np.arange(1,20,2)\n",
    "a[(a%3==0)]=0\n",
    "a"
   ]
  },
  {
   "cell_type": "code",
   "execution_count": 30,
   "id": "959ac7b1-d61a-4c39-ba14-f4282db28383",
   "metadata": {},
   "outputs": [
    {
     "data": {
      "text/plain": [
       "array([[ 1,  0,  5,  7,  0],\n",
       "       [11, 13,  0, 17, 19]])"
      ]
     },
     "execution_count": 30,
     "metadata": {},
     "output_type": "execute_result"
    }
   ],
   "source": [
    "#Q5- b: Change the array into a 2x5 matrix.\n",
    "a.reshape(2,5)\n"
   ]
  },
  {
   "cell_type": "code",
   "execution_count": 35,
   "id": "a754a23f-2510-4750-870d-bd81b538c8a9",
   "metadata": {},
   "outputs": [
    {
     "data": {
      "text/plain": [
       "array([[ 1,  0,  5,  0,  0],\n",
       "       [11, 13,  0,  0, 19]])"
      ]
     },
     "execution_count": 35,
     "metadata": {},
     "output_type": "execute_result"
    }
   ],
   "source": [
    "#Q5- c: Convert all numbers of the third column into zero. Q6:\n",
    "a=a.reshape(2,5)\n",
    "a[:,3]=0\n",
    "a"
   ]
  },
  {
   "cell_type": "code",
   "execution_count": 36,
   "id": "700ac45a-127c-4041-be2e-20da82e20b2a",
   "metadata": {},
   "outputs": [
    {
     "data": {
      "text/plain": [
       "array([1.5   , 1.6875, 1.875 , 2.0625, 2.25  , 2.4375, 2.625 , 2.8125,\n",
       "       3.    ])"
      ]
     },
     "execution_count": 36,
     "metadata": {},
     "output_type": "execute_result"
    }
   ],
   "source": [
    "# a: Create an one-dimensional array, b1, which includes 9 numbers evenly spaced over 1.5 to 3.\n",
    "b1=np.linspace(1.5,3,9)\n",
    "b1"
   ]
  },
  {
   "cell_type": "code",
   "execution_count": 44,
   "id": "09bb00a4-ead4-4684-9599-a49fd5e85413",
   "metadata": {},
   "outputs": [
    {
     "data": {
      "text/plain": [
       "array([[1.35357637, 0.10676823, 2.07453023],\n",
       "       [0.76551108, 0.45955845, 1.66537221],\n",
       "       [1.64469131, 0.52260737, 1.01177228]])"
      ]
     },
     "execution_count": 44,
     "metadata": {},
     "output_type": "execute_result"
    }
   ],
   "source": [
    "#b: Create a 3x3 matrix, b2, which includes random numbers from Gaussian distribution with mean = 1, and sd = 0.75, seed = 1234.\n",
    "np.random.seed(1234)\n",
    "b2=np.random.normal(1,0.75,(3,3))\n",
    "b2"
   ]
  },
  {
   "cell_type": "code",
   "execution_count": 49,
   "id": "e9a39a87-2c4d-440a-80fd-3aa6470233de",
   "metadata": {},
   "outputs": [
    {
     "data": {
      "text/plain": [
       "array([[1.35357637, 0.76551108, 1.64469131],\n",
       "       [0.10676823, 0.45955845, 0.52260737],\n",
       "       [2.07453023, 1.66537221, 1.01177228]])"
      ]
     },
     "execution_count": 49,
     "metadata": {},
     "output_type": "execute_result"
    }
   ],
   "source": [
    "# d: What is the transpose of matrix b2?\n",
    "b2.T"
   ]
  },
  {
   "cell_type": "code",
   "execution_count": 51,
   "id": "d1d0a4cd-59f7-4c7d-8245-ca24b760499f",
   "metadata": {},
   "outputs": [
    {
     "data": {
      "text/plain": [
       "array([[1.5   , 1.6875, 1.875 ],\n",
       "       [2.0625, 2.25  , 2.4375],\n",
       "       [2.625 , 2.8125, 3.    ]])"
      ]
     },
     "execution_count": 51,
     "metadata": {},
     "output_type": "execute_result"
    }
   ],
   "source": [
    "#e: Convert b1 into a 3x3 matrix.\n",
    "b1=np.linspace(1.5,3,9)\n",
    "b1.reshape(3,3)\n"
   ]
  },
  {
   "cell_type": "code",
   "execution_count": 52,
   "id": "e8b4be18-f405-484a-ba8d-60f6c16b3d6c",
   "metadata": {},
   "outputs": [
    {
     "data": {
      "text/plain": [
       "array([1.5   , 1.6875, 1.875 , 2.0625, 2.25  , 2.4375, 2.625 , 2.8125,\n",
       "       3.    ])"
      ]
     },
     "execution_count": 52,
     "metadata": {},
     "output_type": "execute_result"
    }
   ],
   "source": [
    "#f: Calculate summation of b1 and b2.\n",
    "b1"
   ]
  },
  {
   "cell_type": "code",
   "execution_count": 53,
   "id": "076d659a-48c1-44c6-a591-1ab250d8a2ab",
   "metadata": {},
   "outputs": [
    {
     "data": {
      "text/plain": [
       "array([[1.35357637, 0.10676823, 2.07453023],\n",
       "       [0.76551108, 0.45955845, 1.66537221],\n",
       "       [1.64469131, 0.52260737, 1.01177228]])"
      ]
     },
     "execution_count": 53,
     "metadata": {},
     "output_type": "execute_result"
    }
   ],
   "source": [
    "b2"
   ]
  },
  {
   "cell_type": "code",
   "execution_count": 60,
   "id": "282a6be7-d7f6-4f51-bfde-c09e9fb49942",
   "metadata": {},
   "outputs": [
    {
     "data": {
      "text/plain": [
       "array([[1.5   , 1.6875, 1.875 ],\n",
       "       [2.0625, 2.25  , 2.4375],\n",
       "       [2.625 , 2.8125, 3.    ]])"
      ]
     },
     "execution_count": 60,
     "metadata": {},
     "output_type": "execute_result"
    }
   ],
   "source": [
    "b1=b1.reshape(3,3)\n",
    "b1"
   ]
  },
  {
   "cell_type": "code",
   "execution_count": 59,
   "id": "69c7ca17-fa55-46bf-bca1-56d21bacb61d",
   "metadata": {},
   "outputs": [
    {
     "data": {
      "text/plain": [
       "array([[2.85357637, 1.79426823, 3.94953023],\n",
       "       [2.82801108, 2.70955845, 4.10287221],\n",
       "       [4.26969131, 3.33510737, 4.01177228]])"
      ]
     },
     "execution_count": 59,
     "metadata": {},
     "output_type": "execute_result"
    }
   ],
   "source": [
    "b1+b2"
   ]
  },
  {
   "cell_type": "code",
   "execution_count": 61,
   "id": "9605bcd4-2399-4f4e-bdaf-06683e3f6587",
   "metadata": {},
   "outputs": [
    {
     "data": {
      "text/plain": [
       "array([[1.5   , 1.6875, 1.875 ],\n",
       "       [2.0625, 2.25  , 2.4375],\n",
       "       [2.625 , 2.8125, 3.    ]])"
      ]
     },
     "execution_count": 61,
     "metadata": {},
     "output_type": "execute_result"
    }
   ],
   "source": [
    "# g: Calculate matrix multiplication of b1 and b2.\n",
    "b1"
   ]
  },
  {
   "cell_type": "code",
   "execution_count": 62,
   "id": "285e671c-2a74-4030-a638-2b14b7efb9cd",
   "metadata": {},
   "outputs": [
    {
     "data": {
      "text/plain": [
       "array([[1.35357637, 0.10676823, 2.07453023],\n",
       "       [0.76551108, 0.45955845, 1.66537221],\n",
       "       [1.64469131, 0.52260737, 1.01177228]])"
      ]
     },
     "execution_count": 62,
     "metadata": {},
     "output_type": "execute_result"
    }
   ],
   "source": [
    "b2"
   ]
  },
  {
   "cell_type": "code",
   "execution_count": 63,
   "id": "c6132bbd-73fb-4eed-aa21-8d569fd26aa3",
   "metadata": {},
   "outputs": [
    {
     "data": {
      "text/plain": [
       "array([[2.03036456, 0.18017139, 3.88974417],\n",
       "       [1.5788666 , 1.03400651, 4.05934475],\n",
       "       [4.31731469, 1.46983323, 3.03531684]])"
      ]
     },
     "execution_count": 63,
     "metadata": {},
     "output_type": "execute_result"
    }
   ],
   "source": [
    "b1*b2"
   ]
  },
  {
   "cell_type": "code",
   "execution_count": 64,
   "id": "02fffa68-1ef9-4a83-9eb5-51d2d309ac13",
   "metadata": {},
   "outputs": [
    {
     "data": {
      "text/plain": [
       "array([[ 6.40596071,  1.91554605,  7.81918396],\n",
       "       [ 8.52308626,  2.52807145, 10.49200098],\n",
       "       [10.64021182,  3.14059686, 13.16481801]])"
      ]
     },
     "execution_count": 64,
     "metadata": {},
     "output_type": "execute_result"
    }
   ],
   "source": [
    "np.dot(b1,b2)"
   ]
  },
  {
   "cell_type": "code",
   "execution_count": 65,
   "id": "0c753179-7e16-406d-8cd7-8b5eeca9ca6c",
   "metadata": {},
   "outputs": [
    {
     "data": {
      "text/plain": [
       "array([[1.35357637, 0.10676823, 2.07453023],\n",
       "       [0.76551108, 0.45955845, 1.66537221],\n",
       "       [1.64469131, 0.52260737, 1.01177228]])"
      ]
     },
     "execution_count": 65,
     "metadata": {},
     "output_type": "execute_result"
    }
   ],
   "source": [
    "#h: Call all numbers of b2 which are greater than mean of b2.\n",
    "b2"
   ]
  },
  {
   "cell_type": "code",
   "execution_count": 72,
   "id": "fac9f451-cec5-450a-b602-833809ea3907",
   "metadata": {},
   "outputs": [
    {
     "data": {
      "text/plain": [
       "1.0671541691431363"
      ]
     },
     "execution_count": 72,
     "metadata": {},
     "output_type": "execute_result"
    }
   ],
   "source": [
    "np.mean(b2)"
   ]
  },
  {
   "cell_type": "code",
   "execution_count": 71,
   "id": "b880fc87-46a3-489f-a820-5d9cdae5223e",
   "metadata": {},
   "outputs": [
    {
     "data": {
      "text/plain": [
       "array([1.35357637, 2.07453023, 1.66537221, 1.64469131])"
      ]
     },
     "execution_count": 71,
     "metadata": {},
     "output_type": "execute_result"
    }
   ],
   "source": [
    "b2[(b2>np.mean(b2))]"
   ]
  },
  {
   "cell_type": "code",
   "execution_count": 73,
   "id": "1767af25-2b5e-474d-8ed2-e0c6906703fe",
   "metadata": {},
   "outputs": [
    {
     "data": {
      "text/plain": [
       "array([[1.35357637, 0.10676823, 2.07453023],\n",
       "       [0.76551108, 0.45955845, 1.66537221],\n",
       "       [1.64469131, 0.52260737, 1.01177228]])"
      ]
     },
     "execution_count": 73,
     "metadata": {},
     "output_type": "execute_result"
    }
   ],
   "source": [
    "#i: Scale matrix b2 using min-max scaling method. End of Code\n",
    "b2"
   ]
  },
  {
   "cell_type": "code",
   "execution_count": 74,
   "id": "1c478630-9b8d-4bd5-948a-9a2e27513122",
   "metadata": {},
   "outputs": [
    {
     "data": {
      "text/plain": [
       "0.1067682289701517"
      ]
     },
     "execution_count": 74,
     "metadata": {},
     "output_type": "execute_result"
    }
   ],
   "source": [
    "np.min(b2)"
   ]
  },
  {
   "cell_type": "code",
   "execution_count": 75,
   "id": "845367b4-653a-43d0-aaf5-e1db60916525",
   "metadata": {},
   "outputs": [
    {
     "data": {
      "text/plain": [
       "2.074530226319573"
      ]
     },
     "execution_count": 75,
     "metadata": {},
     "output_type": "execute_result"
    }
   ],
   "source": [
    "np.max(b2)"
   ]
  },
  {
   "cell_type": "code",
   "execution_count": null,
   "id": "09f21b79-33d9-4569-bbdc-2c0267c24bff",
   "metadata": {},
   "outputs": [],
   "source": []
  }
 ],
 "metadata": {
  "kernelspec": {
   "display_name": "Python 3 (ipykernel)",
   "language": "python",
   "name": "python3"
  },
  "language_info": {
   "codemirror_mode": {
    "name": "ipython",
    "version": 3
   },
   "file_extension": ".py",
   "mimetype": "text/x-python",
   "name": "python",
   "nbconvert_exporter": "python",
   "pygments_lexer": "ipython3",
   "version": "3.11.7"
  }
 },
 "nbformat": 4,
 "nbformat_minor": 5
}
